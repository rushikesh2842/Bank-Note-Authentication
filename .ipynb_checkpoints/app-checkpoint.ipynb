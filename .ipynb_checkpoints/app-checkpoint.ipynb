{
 "cells": [
  {
   "cell_type": "code",
   "execution_count": null,
   "id": "80f52225",
   "metadata": {},
   "outputs": [
    {
     "name": "stdout",
     "output_type": "stream",
     "text": [
      " * Serving Flask app \"__main__\" (lazy loading)\n",
      " * Environment: production\n",
      "\u001b[31m   WARNING: This is a development server. Do not use it in a production deployment.\u001b[0m\n",
      "\u001b[2m   Use a production WSGI server instead.\u001b[0m\n",
      " * Debug mode: off\n"
     ]
    },
    {
     "name": "stderr",
     "output_type": "stream",
     "text": [
      " * Running on http://127.0.0.1:5000/ (Press CTRL+C to quit)\n",
      "127.0.0.1 - - [01/Nov/2022 22:02:08] \"GET / HTTP/1.1\" 200 -\n",
      "127.0.0.1 - - [01/Nov/2022 22:02:09] \"GET /favicon.ico HTTP/1.1\" 404 -\n",
      "127.0.0.1 - - [01/Nov/2022 22:02:20] \"GET /apidocs HTTP/1.1\" 308 -\n",
      "127.0.0.1 - - [01/Nov/2022 22:02:20] \"GET /apidocs/ HTTP/1.1\" 200 -\n",
      "127.0.0.1 - - [01/Nov/2022 22:02:22] \"GET /flasgger_static/swagger-ui-bundle.js HTTP/1.1\" 200 -\n",
      "127.0.0.1 - - [01/Nov/2022 22:02:22] \"GET /flasgger_static/lib/jquery.min.js HTTP/1.1\" 200 -\n",
      "127.0.0.1 - - [01/Nov/2022 22:02:22] \"GET /flasgger_static/swagger-ui.css HTTP/1.1\" 200 -\n",
      "127.0.0.1 - - [01/Nov/2022 22:02:22] \"GET /flasgger_static/swagger-ui-standalone-preset.js HTTP/1.1\" 200 -\n",
      "127.0.0.1 - - [01/Nov/2022 22:02:22] \"GET /apispec_1.json HTTP/1.1\" 200 -\n",
      "127.0.0.1 - - [01/Nov/2022 22:02:22] \"GET /flasgger_static/favicon-32x32.png HTTP/1.1\" 200 -\n"
     ]
    }
   ],
   "source": [
    "from flask import Flask,request\n",
    "import numpy as np\n",
    "import pandas as pd\n",
    "import pickle\n",
    "import flasgger\n",
    "from flasgger import Swagger\n",
    "\n",
    "app=Flask(__name__)\n",
    "Swagger(app)\n",
    "\n",
    "\n",
    "pickle_in=open('BankNote_Authentication.pkl','rb')\n",
    "classifier=pickle.load(pickle_in)\n",
    "\n",
    "@app.route('/')\n",
    "def welcome():\n",
    "    return 'Welcome all'\n",
    "\n",
    "\n",
    "@app.route('/predict',methods=['GET'])\n",
    "def predict_note_authentication():\n",
    "    \n",
    "    \"\"\"Let's Authenticate the Banks Note \n",
    "    This is using docstrings for specifications.\n",
    "    ---\n",
    "    parameters:\n",
    "      - name: variance\n",
    "        in: query\n",
    "        type: integer\n",
    "        required: true\n",
    "      - name: skewness\n",
    "        in: query\n",
    "        type: integer\n",
    "        required: true\n",
    "      - name: kurtosis\n",
    "        in: query\n",
    "        type: integer\n",
    "        required: true      \n",
    "      - name: entropy\n",
    "        in: query\n",
    "        type: integer\n",
    "        required: true\n",
    "    responses:\n",
    "        200:\n",
    "            description: The output values\n",
    "\n",
    "    \"\"\"\n",
    "\n",
    "    variance=request.args.get('variance')\n",
    "    skewness=request.args.get('skewness')\n",
    "    kurtosis=request.args.get('kurtosis')\n",
    "    entropy=request.args.get('entropy')\n",
    "    prediction=classifier.predict([[variance,skewness,kurtosis,entropy]])\n",
    "    return \"The predicted value is\"+str(prediction)   \n",
    "\n",
    "\n",
    "@app.route('/predict_file',methods=['POST'])\n",
    "def predict_note_file():\n",
    "    \"\"\"Let's Authenticate the Banks Note \n",
    "    This is using docstrings for specifications.\n",
    "    ---\n",
    "    parameters:\n",
    "       - name: file\n",
    "         in: formData\n",
    "         type: file\n",
    "         required: true\n",
    "       \n",
    "    responses:\n",
    "        200:\n",
    "            description: The output values\n",
    "            \n",
    "    \"\"\"\n",
    "    \n",
    "    df_file=pd.read_csv(request.files.get(\"file\"))\n",
    "    prediction=classifier.predict(df_file)\n",
    "    \n",
    "    return str(list(prediction))\n",
    "    \n",
    "\n",
    "if __name__=='__main__':\n",
    "    app.run(port=5000)"
   ]
  },
  {
   "cell_type": "markdown",
   "id": "e4d3912e",
   "metadata": {},
   "source": [
    "# Credits to Krish Naik's Youtube Channel,this is the playlist\n",
    "# https://www.youtube.com/playlist?list=PLZoTAELRMXVNKtpy0U_Mx9N26w8n0hIbs"
   ]
  }
 ],
 "metadata": {
  "kernelspec": {
   "display_name": "Python 3 (ipykernel)",
   "language": "python",
   "name": "python3"
  },
  "language_info": {
   "codemirror_mode": {
    "name": "ipython",
    "version": 3
   },
   "file_extension": ".py",
   "mimetype": "text/x-python",
   "name": "python",
   "nbconvert_exporter": "python",
   "pygments_lexer": "ipython3",
   "version": "3.9.13"
  }
 },
 "nbformat": 4,
 "nbformat_minor": 5
}
